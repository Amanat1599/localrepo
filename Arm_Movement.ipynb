{
 "cells": [
  {
   "cell_type": "code",
   "execution_count": 1,
   "id": "6136e0cc-ac93-403f-be12-4f6d53f357b9",
   "metadata": {},
   "outputs": [
    {
     "name": "stderr",
     "output_type": "stream",
     "text": [
      "C:\\Users\\s\\AppData\\Local\\Temp\\ipykernel_13848\\2709194421.py:2: DeprecationWarning: \n",
      "Pyarrow will become a required dependency of pandas in the next major release of pandas (pandas 3.0),\n",
      "(to allow more performant data types, such as the Arrow string type, and better interoperability with other libraries)\n",
      "but was not found to be installed on your system.\n",
      "If this would cause problems for you,\n",
      "please provide us feedback at https://github.com/pandas-dev/pandas/issues/54466\n",
      "        \n",
      "  import pandas as pd\n"
     ]
    },
    {
     "name": "stdout",
     "output_type": "stream",
     "text": [
      "WARNING:tensorflow:From C:\\Users\\s\\AppData\\Local\\Programs\\Python\\Python311\\Lib\\site-packages\\keras\\src\\losses.py:2976: The name tf.losses.sparse_softmax_cross_entropy is deprecated. Please use tf.compat.v1.losses.sparse_softmax_cross_entropy instead.\n",
      "\n"
     ]
    }
   ],
   "source": [
    "import numpy as np\n",
    "import pandas as pd\n",
    "import matplotlib.pyplot as plt\n",
    "import seaborn as sns\n",
    "import os\n",
    "from sklearn.model_selection import train_test_split\n",
    "from sklearn.preprocessing import StandardScaler\n",
    "import tensorflow as tf\n",
    "from tensorflow import keras\n",
    "from keras import Sequential\n",
    "from keras.layers import Dense, Conv2D, MaxPooling2D, Flatten, BatchNormalization, Dropout\n",
    "from tensorflow.keras.utils import plot_model"
   ]
  },
  {
   "cell_type": "code",
   "execution_count": 674,
   "id": "0a5fd804-4858-45d0-8d6e-f4cc1d812435",
   "metadata": {},
   "outputs": [],
   "source": [
    "fall_data = []\n",
    "adl_data = []\n",
    "fall_path = \"up\"\n",
    "adl_path = \"down\""
   ]
  },
  {
   "cell_type": "code",
   "execution_count": 675,
   "id": "84731b23-8eb3-4ce8-b406-e0b783358f09",
   "metadata": {},
   "outputs": [],
   "source": [
    "for file in os.listdir(fall_path):\n",
    "    if file.endswith(\".csv\"):\n",
    "        data = pd.read_csv(os.path.join(fall_path, file)).values\n",
    "        fall_data.append(data)\n",
    "\n",
    "for file in os.listdir(adl_path):\n",
    "    if file.endswith(\".csv\"):\n",
    "        data = pd.read_csv(os.path.join(adl_path, file)).values\n",
    "        adl_data.append(data)"
   ]
  },
  {
   "cell_type": "code",
   "execution_count": 676,
   "id": "09084c69-7cb6-44ed-9215-077c91b7b5da",
   "metadata": {},
   "outputs": [
    {
     "data": {
      "text/plain": [
       "((50, 75, 1), (50, 75, 1))"
      ]
     },
     "execution_count": 676,
     "metadata": {},
     "output_type": "execute_result"
    }
   ],
   "source": [
    "fall_data_np = np.array(fall_data)\n",
    "adl_data_np = np.array(adl_data)\n",
    "fall_data_np.shape, adl_data_np.shape"
   ]
  },
  {
   "cell_type": "code",
   "execution_count": 677,
   "id": "66c82c44-d696-45bb-91ba-ed87be060488",
   "metadata": {},
   "outputs": [],
   "source": [
    "fall_data_np_re = fall_data_np.reshape(-1, 75, 1)\n",
    "adl_data_np_re = adl_data_np.reshape(-1, 75, 1)"
   ]
  },
  {
   "cell_type": "code",
   "execution_count": 678,
   "id": "4fa86137-9afa-4b0c-bcaf-ae1a88b1f332",
   "metadata": {},
   "outputs": [],
   "source": [
    "fall_labels = np.ones(fall_data_np_re.shape[0])\n",
    "adl_labels = np.zeros(adl_data_np_re.shape[0])"
   ]
  },
  {
   "cell_type": "code",
   "execution_count": 679,
   "id": "0709d58b-2ff4-4a23-88c0-90c310b17da0",
   "metadata": {},
   "outputs": [
    {
     "data": {
      "text/plain": [
       "(array([1., 1., 1., 1., 1., 1., 1., 1., 1., 1., 1., 1., 1., 1., 1., 1., 1.,\n",
       "        1., 1., 1., 1., 1., 1., 1., 1., 1., 1., 1., 1., 1., 1., 1., 1., 1.,\n",
       "        1., 1., 1., 1., 1., 1., 1., 1., 1., 1., 1., 1., 1., 1., 1., 1.]),\n",
       " array([0., 0., 0., 0., 0., 0., 0., 0., 0., 0., 0., 0., 0., 0., 0., 0., 0.,\n",
       "        0., 0., 0., 0., 0., 0., 0., 0., 0., 0., 0., 0., 0., 0., 0., 0., 0.,\n",
       "        0., 0., 0., 0., 0., 0., 0., 0., 0., 0., 0., 0., 0., 0., 0., 0.]))"
      ]
     },
     "execution_count": 679,
     "metadata": {},
     "output_type": "execute_result"
    }
   ],
   "source": [
    "fall_labels,adl_labels"
   ]
  },
  {
   "cell_type": "code",
   "execution_count": 680,
   "id": "864c04a7-4033-43f4-b34c-f4c433a48ba1",
   "metadata": {},
   "outputs": [
    {
     "data": {
      "text/plain": [
       "((50,), numpy.ndarray)"
      ]
     },
     "execution_count": 680,
     "metadata": {},
     "output_type": "execute_result"
    }
   ],
   "source": [
    "fall_labels.shape, type(fall_labels)"
   ]
  },
  {
   "cell_type": "code",
   "execution_count": 681,
   "id": "d6e749e4-c1ab-44d8-be3c-9aa19611a013",
   "metadata": {},
   "outputs": [
    {
     "data": {
      "text/plain": [
       "((100, 75, 1), numpy.ndarray)"
      ]
     },
     "execution_count": 681,
     "metadata": {},
     "output_type": "execute_result"
    }
   ],
   "source": [
    "x = np.concatenate([fall_data_np_re, adl_data_np_re], axis=0)\n",
    "x.shape, type(x)"
   ]
  },
  {
   "cell_type": "code",
   "execution_count": 682,
   "id": "f14dabe6-468e-4ff5-a80c-a5a5be592cb4",
   "metadata": {},
   "outputs": [
    {
     "data": {
      "text/plain": [
       "((100,), numpy.ndarray)"
      ]
     },
     "execution_count": 682,
     "metadata": {},
     "output_type": "execute_result"
    }
   ],
   "source": [
    "y = np.concatenate([fall_labels, adl_labels], axis=0)\n",
    "y.shape, type(y)"
   ]
  },
  {
   "cell_type": "code",
   "execution_count": 683,
   "id": "c9572325-5264-4f87-99da-7d8e9a7cf7dc",
   "metadata": {},
   "outputs": [
    {
     "data": {
      "text/plain": [
       "(numpy.ndarray, (80, 75, 1))"
      ]
     },
     "execution_count": 683,
     "metadata": {},
     "output_type": "execute_result"
    }
   ],
   "source": [
    "x_train, x_test, y_train, y_test = train_test_split(x, y, test_size=0.2, random_state=42)\n",
    "type(x_train), x_train.shape"
   ]
  },
  {
   "cell_type": "code",
   "execution_count": 684,
   "id": "3616e796-fd01-4ed5-b261-047808272d51",
   "metadata": {},
   "outputs": [],
   "source": [
    "x_train_re = x_train.reshape(x_train.shape[0], 75, 1, 1) \n",
    "x_test_re = x_test.reshape(x_test.shape[0], 75, 1, 1)"
   ]
  },
  {
   "cell_type": "code",
   "execution_count": 685,
   "id": "071713df-c9d4-4e3d-b934-120539fb439a",
   "metadata": {},
   "outputs": [
    {
     "data": {
      "text/plain": [
       "((80, 75, 1, 1), (20, 75, 1, 1))"
      ]
     },
     "execution_count": 685,
     "metadata": {},
     "output_type": "execute_result"
    }
   ],
   "source": [
    "x_train_re.shape, x_test_re.shape"
   ]
  },
  {
   "cell_type": "code",
   "execution_count": 686,
   "id": "b0a26ec0-e859-4c7a-83e4-60357d48284e",
   "metadata": {},
   "outputs": [
    {
     "data": {
      "text/plain": [
       "array([[[ 558]],\n",
       "\n",
       "       [[1303]],\n",
       "\n",
       "       [[ 962]],\n",
       "\n",
       "       [[ 816]],\n",
       "\n",
       "       [[ 856]],\n",
       "\n",
       "       [[1008]],\n",
       "\n",
       "       [[1216]],\n",
       "\n",
       "       [[ 925]],\n",
       "\n",
       "       [[1682]],\n",
       "\n",
       "       [[1173]],\n",
       "\n",
       "       [[1070]],\n",
       "\n",
       "       [[1459]],\n",
       "\n",
       "       [[1464]],\n",
       "\n",
       "       [[ 980]],\n",
       "\n",
       "       [[1726]],\n",
       "\n",
       "       [[1556]],\n",
       "\n",
       "       [[ 946]],\n",
       "\n",
       "       [[1588]],\n",
       "\n",
       "       [[1674]],\n",
       "\n",
       "       [[1715]],\n",
       "\n",
       "       [[1808]],\n",
       "\n",
       "       [[2075]],\n",
       "\n",
       "       [[2061]],\n",
       "\n",
       "       [[2334]],\n",
       "\n",
       "       [[1741]],\n",
       "\n",
       "       [[4095]],\n",
       "\n",
       "       [[2483]],\n",
       "\n",
       "       [[3201]],\n",
       "\n",
       "       [[3161]],\n",
       "\n",
       "       [[2513]],\n",
       "\n",
       "       [[2373]],\n",
       "\n",
       "       [[2581]],\n",
       "\n",
       "       [[2872]],\n",
       "\n",
       "       [[2768]],\n",
       "\n",
       "       [[3078]],\n",
       "\n",
       "       [[2690]],\n",
       "\n",
       "       [[2261]],\n",
       "\n",
       "       [[2235]],\n",
       "\n",
       "       [[2013]],\n",
       "\n",
       "       [[2045]],\n",
       "\n",
       "       [[1479]],\n",
       "\n",
       "       [[1456]],\n",
       "\n",
       "       [[1438]],\n",
       "\n",
       "       [[ 802]],\n",
       "\n",
       "       [[ 443]],\n",
       "\n",
       "       [[ 213]],\n",
       "\n",
       "       [[  65]],\n",
       "\n",
       "       [[ 241]],\n",
       "\n",
       "       [[ 653]],\n",
       "\n",
       "       [[ 848]],\n",
       "\n",
       "       [[1195]],\n",
       "\n",
       "       [[1177]],\n",
       "\n",
       "       [[1401]],\n",
       "\n",
       "       [[1287]],\n",
       "\n",
       "       [[1623]],\n",
       "\n",
       "       [[1456]],\n",
       "\n",
       "       [[1917]],\n",
       "\n",
       "       [[1669]],\n",
       "\n",
       "       [[1988]],\n",
       "\n",
       "       [[1975]],\n",
       "\n",
       "       [[2099]],\n",
       "\n",
       "       [[2213]],\n",
       "\n",
       "       [[2147]],\n",
       "\n",
       "       [[2358]],\n",
       "\n",
       "       [[2348]],\n",
       "\n",
       "       [[2413]],\n",
       "\n",
       "       [[2494]],\n",
       "\n",
       "       [[2162]],\n",
       "\n",
       "       [[2059]],\n",
       "\n",
       "       [[2630]],\n",
       "\n",
       "       [[2238]],\n",
       "\n",
       "       [[2140]],\n",
       "\n",
       "       [[2093]],\n",
       "\n",
       "       [[1991]],\n",
       "\n",
       "       [[1843]]], dtype=int64)"
      ]
     },
     "execution_count": 686,
     "metadata": {},
     "output_type": "execute_result"
    }
   ],
   "source": [
    "x_train_re[0]"
   ]
  },
  {
   "cell_type": "code",
   "execution_count": 687,
   "id": "65df4424-31ed-43d2-9621-b30927437021",
   "metadata": {},
   "outputs": [
    {
     "data": {
      "text/plain": [
       "(75, 1, 1)"
      ]
     },
     "execution_count": 687,
     "metadata": {},
     "output_type": "execute_result"
    }
   ],
   "source": [
    "x_train_re[0].shape"
   ]
  },
  {
   "cell_type": "code",
   "execution_count": 688,
   "id": "411167c6-867b-4419-8ec4-e0508b93972f",
   "metadata": {},
   "outputs": [
    {
     "name": "stdout",
     "output_type": "stream",
     "text": [
      "Model: \"sequential_18\"\n",
      "_________________________________________________________________\n",
      " Layer (type)                Output Shape              Param #   \n",
      "=================================================================\n",
      " conv2d_36 (Conv2D)          (None, 75, 1, 16)         32        \n",
      "                                                                 \n",
      " dropout_54 (Dropout)        (None, 75, 1, 16)         0         \n",
      "                                                                 \n",
      " conv2d_37 (Conv2D)          (None, 75, 1, 32)         544       \n",
      "                                                                 \n",
      " dropout_55 (Dropout)        (None, 75, 1, 32)         0         \n",
      "                                                                 \n",
      " flatten_18 (Flatten)        (None, 2400)              0         \n",
      "                                                                 \n",
      " dense_36 (Dense)            (None, 64)                153664    \n",
      "                                                                 \n",
      " dropout_56 (Dropout)        (None, 64)                0         \n",
      "                                                                 \n",
      " dense_37 (Dense)            (None, 1)                 65        \n",
      "                                                                 \n",
      "=================================================================\n",
      "Total params: 154305 (602.75 KB)\n",
      "Trainable params: 154305 (602.75 KB)\n",
      "Non-trainable params: 0 (0.00 Byte)\n",
      "_________________________________________________________________\n"
     ]
    }
   ],
   "source": [
    "\n",
    "from tensorflow.keras.models import Sequential\n",
    "from tensorflow.keras.layers import Conv2D, Dropout, Flatten, Dense\n",
    "\n",
    "model = Sequential()\n",
    "model.add(Conv2D(16, (1, 1), activation='relu', input_shape=x_train_re[0].shape))\n",
    "model.add(Dropout(0.1))\n",
    "model.add(Conv2D(32, (1, 1), activation='relu'))\n",
    "model.add(Dropout(0.2))\n",
    "model.add(Flatten())\n",
    "model.add(Dense(64, activation='relu'))\n",
    "model.add(Dropout(0.5))\n",
    "model.add(Dense(1, activation='sigmoid'))\n",
    "model.summary()"
   ]
  },
  {
   "cell_type": "code",
   "execution_count": 689,
   "id": "e1f9c921-a8fe-4b1f-b462-334dcdac2f4b",
   "metadata": {},
   "outputs": [],
   "source": [
    "model.compile(optimizer='adam', loss='binary_crossentropy', metrics=['accuracy'])"
   ]
  },
  {
   "cell_type": "code",
   "execution_count": 690,
   "id": "f7d9d2fa-c65e-473b-af24-16116b875fc5",
   "metadata": {},
   "outputs": [
    {
     "name": "stdout",
     "output_type": "stream",
     "text": [
      "Epoch 1/10\n",
      "2/2 [==============================] - 1s 294ms/step - loss: 130.5179 - accuracy: 0.5625 - val_loss: 27.9512 - val_accuracy: 0.6250\n",
      "Epoch 2/10\n",
      "2/2 [==============================] - 0s 57ms/step - loss: 103.7577 - accuracy: 0.5469 - val_loss: 26.4722 - val_accuracy: 0.5625\n",
      "Epoch 3/10\n",
      "2/2 [==============================] - 0s 54ms/step - loss: 83.6605 - accuracy: 0.4688 - val_loss: 26.2872 - val_accuracy: 0.5625\n",
      "Epoch 4/10\n",
      "2/2 [==============================] - 0s 57ms/step - loss: 60.2315 - accuracy: 0.5312 - val_loss: 18.6035 - val_accuracy: 0.5625\n",
      "Epoch 5/10\n",
      "2/2 [==============================] - 0s 57ms/step - loss: 30.0723 - accuracy: 0.6250 - val_loss: 17.0182 - val_accuracy: 0.6250\n",
      "Epoch 6/10\n",
      "2/2 [==============================] - 0s 59ms/step - loss: 34.1642 - accuracy: 0.6875 - val_loss: 15.1903 - val_accuracy: 0.4375\n",
      "Epoch 7/10\n",
      "2/2 [==============================] - 0s 56ms/step - loss: 27.0903 - accuracy: 0.6562 - val_loss: 13.5081 - val_accuracy: 0.4375\n",
      "Epoch 8/10\n",
      "2/2 [==============================] - 0s 67ms/step - loss: 28.0235 - accuracy: 0.6406 - val_loss: 13.0558 - val_accuracy: 0.6250\n",
      "Epoch 9/10\n",
      "2/2 [==============================] - 0s 59ms/step - loss: 40.7681 - accuracy: 0.6250 - val_loss: 12.4827 - val_accuracy: 0.6250\n",
      "Epoch 10/10\n",
      "2/2 [==============================] - 0s 53ms/step - loss: 26.9446 - accuracy: 0.6094 - val_loss: 8.7781 - val_accuracy: 0.5000\n"
     ]
    }
   ],
   "source": [
    "history = model.fit(x_train, y_train, epochs=10, batch_size=32, validation_split=0.2, verbose=1)\n"
   ]
  },
  {
   "cell_type": "code",
   "execution_count": 789,
   "id": "e89c111d-400e-4f6e-a902-d75c7cdff5ec",
   "metadata": {},
   "outputs": [],
   "source": [
    "df4 = pd.read_csv(\"up/up_20.csv\")"
   ]
  },
  {
   "cell_type": "code",
   "execution_count": 790,
   "id": "2f07ff7e-d5ef-4517-892f-f1e3c16bbf44",
   "metadata": {},
   "outputs": [],
   "source": [
    "df6 = df4.values"
   ]
  },
  {
   "cell_type": "code",
   "execution_count": 791,
   "id": "16a9be78-b0f7-4f26-9dbb-5c30221e430a",
   "metadata": {},
   "outputs": [],
   "source": [
    "df6_re = df6.reshape(-1, 75, 1)"
   ]
  },
  {
   "cell_type": "code",
   "execution_count": 792,
   "id": "cda6d194-933c-482d-90fe-e034b55e9800",
   "metadata": {},
   "outputs": [
    {
     "name": "stdout",
     "output_type": "stream",
     "text": [
      "1/1 [==============================] - 0s 27ms/step\n"
     ]
    }
   ],
   "source": [
    "y_pred6 = model.predict(df6_re)"
   ]
  },
  {
   "cell_type": "code",
   "execution_count": 793,
   "id": "50632098-169f-4437-ac04-b4d3039415e3",
   "metadata": {},
   "outputs": [],
   "source": [
    "prediction_result = \"Upward movement\" if y_pred6[0][0] >= 0.5 else \"Downward movement\""
   ]
  },
  {
   "cell_type": "code",
   "execution_count": 794,
   "id": "62fe86e2-2c06-496b-af22-919d479cc7b5",
   "metadata": {},
   "outputs": [
    {
     "data": {
      "text/plain": [
       "9.621696e-27"
      ]
     },
     "execution_count": 794,
     "metadata": {},
     "output_type": "execute_result"
    }
   ],
   "source": [
    "y_pred6[0][0]"
   ]
  },
  {
   "cell_type": "code",
   "execution_count": 795,
   "id": "34b8642b-f2db-445b-bdec-b98c1786a01a",
   "metadata": {},
   "outputs": [
    {
     "name": "stdout",
     "output_type": "stream",
     "text": [
      "Prediction: Downward movement\n"
     ]
    }
   ],
   "source": [
    "print(\"Prediction:\", prediction_result)"
   ]
  },
  {
   "cell_type": "code",
   "execution_count": null,
   "id": "baa6a564-7e8a-4f5b-a05d-1951b081e9b3",
   "metadata": {},
   "outputs": [],
   "source": []
  },
  {
   "cell_type": "code",
   "execution_count": null,
   "id": "8d28efd1-f7e3-4e24-8045-d47f0fddb3a5",
   "metadata": {},
   "outputs": [],
   "source": []
  }
 ],
 "metadata": {
  "kernelspec": {
   "display_name": "Python 3 (ipykernel)",
   "language": "python",
   "name": "python3"
  },
  "language_info": {
   "codemirror_mode": {
    "name": "ipython",
    "version": 3
   },
   "file_extension": ".py",
   "mimetype": "text/x-python",
   "name": "python",
   "nbconvert_exporter": "python",
   "pygments_lexer": "ipython3",
   "version": "3.11.5"
  }
 },
 "nbformat": 4,
 "nbformat_minor": 5
}
